{
 "cells": [
  {
   "cell_type": "code",
   "execution_count": 4,
   "id": "586bbe3a-c12f-4807-94b0-2f2829b7d44d",
   "metadata": {},
   "outputs": [
    {
     "name": "stdout",
     "output_type": "stream",
     "text": [
      "[1, 3, 12, 0, 0]\n"
     ]
    }
   ],
   "source": [
    "def shift(arr1):\n",
    "    pt1=0\n",
    "    pt2=0\n",
    "    n=len(arr1)\n",
    "    while(pt2<n):\n",
    "        if(arr1[pt1]==0):\n",
    "            if(arr1[pt2]!=0):\n",
    "                t=arr1[pt1]\n",
    "                arr1[pt1]=arr1[pt2]\n",
    "                arr1[pt2]=t\n",
    "                pt1+=1\n",
    "                pt2+=1\n",
    "            else:\n",
    "                pt2+=1\n",
    "    return arr1\n",
    "\n",
    "if __name__==\"__main__\":\n",
    "    nums = [0,1,0,3,12]\n",
    "    x=shift(nums)\n",
    "    print(x)"
   ]
  },
  {
   "cell_type": "code",
   "execution_count": 4,
   "id": "716e7420-fd21-40f3-9df2-f716c67d7fdc",
   "metadata": {},
   "outputs": [
    {
     "name": "stdout",
     "output_type": "stream",
     "text": [
      "5\n"
     ]
    }
   ],
   "source": [
    "\n",
    "from collections import defaultdict\n",
    "def firstNonRepeating(arr, n):\n",
    "    mp = defaultdict(lambda: 0)\n",
    " \n",
    "    for i in range(n):\n",
    "        mp[arr[i]] += 1\n",
    " \n",
    "    for i in range(n):\n",
    "        if mp[arr[i]] == 1:\n",
    "            return i\n",
    "    return -1\n",
    " \n",
    " \n",
    "arr = [9, 4, 9, 6,6, 7, 4]\n",
    "n = len(arr)\n",
    "print(firstNonRepeating(arr, n)) "
   ]
  },
  {
   "cell_type": "code",
   "execution_count": 6,
   "id": "bd817793-78d6-4b70-9f29-8842b1c045ed",
   "metadata": {},
   "outputs": [
    {
     "data": {
      "text/plain": [
       "[0, 0, 0, 0, 0, 0, 0, 0, 0, 0, 0, 0, 0, 0, 0, 0, 0, 0, 0, 0, 0, 0, 0, 0, 0, 0]"
      ]
     },
     "execution_count": 6,
     "metadata": {},
     "output_type": "execute_result"
    }
   ],
   "source": []
  },
  {
   "cell_type": "code",
   "execution_count": null,
   "id": "df311419-eb86-4f94-8257-636a0226c5e9",
   "metadata": {},
   "outputs": [],
   "source": []
  }
 ],
 "metadata": {
  "kernelspec": {
   "display_name": "Python 3 (ipykernel)",
   "language": "python",
   "name": "python3"
  },
  "language_info": {
   "codemirror_mode": {
    "name": "ipython",
    "version": 3
   },
   "file_extension": ".py",
   "mimetype": "text/x-python",
   "name": "python",
   "nbconvert_exporter": "python",
   "pygments_lexer": "ipython3",
   "version": "3.10.8"
  }
 },
 "nbformat": 4,
 "nbformat_minor": 5
}
