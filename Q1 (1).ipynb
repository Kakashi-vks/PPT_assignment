{
 "cells": [
  {
   "cell_type": "code",
   "execution_count": 1,
   "id": "e61514b5-bb04-48a0-b8c4-c4c1f0795cef",
   "metadata": {},
   "outputs": [
    {
     "name": "stdout",
     "output_type": "stream",
     "text": [
      "[1, 3, 12, 0, 0]\n"
     ]
    }
   ],
   "source": [
    "def shift(arr1):\n",
    "    pt1=0\n",
    "    pt2=0\n",
    "    n=len(arr1)\n",
    "    while(pt2<n):\n",
    "        if(arr1[pt1]==0):\n",
    "            if(arr1[pt2]!=0):\n",
    "                t=arr1[pt1]\n",
    "                arr1[pt1]=arr1[pt2]\n",
    "                arr1[pt2]=t\n",
    "                pt1+=1\n",
    "                pt2+=1\n",
    "            else:\n",
    "                pt2+=1\n",
    "    return arr1\n",
    "\n",
    "if __name__==\"__main__\":\n",
    "    nums = [0,1,0,3,12]\n",
    "    x=shift(nums)\n",
    "    print(x)"
   ]
  },
  {
   "cell_type": "code",
   "execution_count": null,
   "id": "ac84875c-f828-4cfe-acc0-7d2f5fed00d5",
   "metadata": {},
   "outputs": [],
   "source": []
  }
 ],
 "metadata": {
  "kernelspec": {
   "display_name": "Python 3 (ipykernel)",
   "language": "python",
   "name": "python3"
  },
  "language_info": {
   "codemirror_mode": {
    "name": "ipython",
    "version": 3
   },
   "file_extension": ".py",
   "mimetype": "text/x-python",
   "name": "python",
   "nbconvert_exporter": "python",
   "pygments_lexer": "ipython3",
   "version": "3.10.8"
  }
 },
 "nbformat": 4,
 "nbformat_minor": 5
}
