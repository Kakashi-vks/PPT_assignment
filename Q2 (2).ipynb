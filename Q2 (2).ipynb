{
 "cells": [
  {
   "cell_type": "code",
   "execution_count": 5,
   "id": "716e7420-fd21-40f3-9df2-f716c67d7fdc",
   "metadata": {},
   "outputs": [
    {
     "name": "stdout",
     "output_type": "stream",
     "text": [
      "5\n"
     ]
    }
   ],
   "source": [
    "\n",
    "from collections import defaultdict\n",
    "def firstNonRepeating(arr, n):\n",
    "    mp = defaultdict(lambda: 0)\n",
    " \n",
    "    for i in range(n):\n",
    "        mp[arr[i]] += 1\n",
    " \n",
    "    for i in range(n):\n",
    "        if mp[arr[i]] == 1:\n",
    "            return i\n",
    "    return -1\n",
    " \n",
    " \n",
    "arr = [9, 4, 9, 6,6, 7, 4]\n",
    "n = len(arr)\n",
    "print(firstNonRepeating(arr, n)) "
   ]
  },
  {
   "cell_type": "code",
   "execution_count": null,
   "id": "bf6dfa5b-a773-40db-b2b9-7f596d082e92",
   "metadata": {},
   "outputs": [],
   "source": []
  }
 ],
 "metadata": {
  "kernelspec": {
   "display_name": "Python 3 (ipykernel)",
   "language": "python",
   "name": "python3"
  },
  "language_info": {
   "codemirror_mode": {
    "name": "ipython",
    "version": 3
   },
   "file_extension": ".py",
   "mimetype": "text/x-python",
   "name": "python",
   "nbconvert_exporter": "python",
   "pygments_lexer": "ipython3",
   "version": "3.10.8"
  }
 },
 "nbformat": 4,
 "nbformat_minor": 5
}
