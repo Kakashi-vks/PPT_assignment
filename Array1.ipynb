{
 "cells": [
  {
   "cell_type": "markdown",
   "id": "2517559e-9e2b-47f8-afa5-0d02e04e6e29",
   "metadata": {},
   "source": [
    "# Assignment1"
   ]
  },
  {
   "cell_type": "code",
   "execution_count": 11,
   "id": "e7b6c3b9-9632-4b19-92e0-7d2d6cd76a71",
   "metadata": {},
   "outputs": [
    {
     "name": "stdout",
     "output_type": "stream",
     "text": [
      "[2, 3]\n"
     ]
    }
   ],
   "source": [
    "#Q1\n",
    "\n",
    "def find_target(x,y):\n",
    "    sum=0\n",
    "    length=len(x)\n",
    "    for i in range(length):\n",
    "        pre=x[i]\n",
    "        for j in range(1+i,length):\n",
    "            sum=pre+x[j]\n",
    "            if(sum==y):\n",
    "                return [i,j]\n",
    " \n",
    "\n",
    "if __name__==\"__main__\":\n",
    "    arr= [3, 5, 4, 1, 9]   \n",
    "    target=5\n",
    "    pos=find_target(arr,target)\n",
    "    print(pos)\n",
    "    \n",
    "#TC : O(N^2)"
   ]
  },
  {
   "cell_type": "code",
   "execution_count": 4,
   "id": "8a26d811-5118-4be4-90ac-be909fa413dd",
   "metadata": {},
   "outputs": [
    {
     "name": "stdout",
     "output_type": "stream",
     "text": [
      "2 ,Nums = [2, 2, '@', '@']\n"
     ]
    }
   ],
   "source": [
    "#Q2\n",
    "\n",
    "def find_replace(arr,filt):\n",
    "    arr1=[]\n",
    "    arr2=[]\n",
    "    k=0\n",
    "    for i in range(len(arr)):\n",
    "        if(arr[i]==filt):\n",
    "            arr[i]='@'\n",
    "            arr1.append(arr[i])\n",
    "        else:\n",
    "            arr2.append(arr[i])\n",
    "            k+=1\n",
    "            \n",
    "    arr=arr2+arr1\n",
    "    return arr,k\n",
    "\n",
    "if __name__==\"__main__\":\n",
    "    arr= [3,2,2,3]   \n",
    "    val=3\n",
    "    array,count=find_replace(arr,val)\n",
    "    print(count,\",Nums =\",array)"
   ]
  },
  {
   "cell_type": "code",
   "execution_count": 22,
   "id": "1ace749b-b54c-4337-8310-a26935612324",
   "metadata": {},
   "outputs": [
    {
     "name": "stdout",
     "output_type": "stream",
     "text": [
      "Target found at : 2\n"
     ]
    }
   ],
   "source": [
    "#Q3\n",
    "\n",
    "def find_number(s_arr,element,beg,end):\n",
    "        mid=(beg+end)//2\n",
    "        if(s_arr[mid]==element):\n",
    "            return mid\n",
    "        elif(s_arr[mid]>element):\n",
    "            beg=beg\n",
    "            end=mid\n",
    "            if(beg<=end):\n",
    "                x=find_number(s_arr,element,beg,end)\n",
    "                return x\n",
    "            else:\n",
    "                return -1\n",
    "        else:\n",
    "            beg=mid+1\n",
    "            end=end\n",
    "            if(beg<=end):\n",
    "                x=find_number(s_arr,element,beg,end)\n",
    "                return x\n",
    "            else:\n",
    "                return -1\n",
    " \n",
    "if __name__==\"__main__\":\n",
    "    nums = [1,3,5,6]\n",
    "    target=5\n",
    "    n=len(nums)\n",
    "    if(n==0):\n",
    "        print(\"No element in array\")\n",
    "        \n",
    "    else:\n",
    "        st=0\n",
    "        en=n-1\n",
    "        pos=find_number(nums,target,st,en)\n",
    "    if(pos==-1):\n",
    "        print(\"Target Not Found \")\n",
    "    else:\n",
    "        print(\"Target found at :\",pos)\n",
    "    "
   ]
  },
  {
   "cell_type": "code",
   "execution_count": 28,
   "id": "8db8b390-3219-43aa-831d-feb955f8b6c8",
   "metadata": {},
   "outputs": [
    {
     "name": "stdout",
     "output_type": "stream",
     "text": [
      "124\n"
     ]
    }
   ],
   "source": [
    "#Q4\n",
    "\n",
    "def num_increment(arr):\n",
    "    n=len(arr)-1\n",
    "    num=0\n",
    "    for i in range(n+1):\n",
    "        num=num+ pow(10,n-i)*arr[i]\n",
    "        \n",
    "    return num+1\n",
    "\n",
    "if __name__==\"__main__\":\n",
    "    num=[1,2,3]\n",
    "    x=num_increment(num)\n",
    "    print(x)"
   ]
  },
  {
   "cell_type": "code",
   "execution_count": 11,
   "id": "0f2188df-10e7-47fb-914d-04ae664a5943",
   "metadata": {},
   "outputs": [
    {
     "name": "stdout",
     "output_type": "stream",
     "text": [
      "[1, 2, 2, 3, 5, 6]\n"
     ]
    }
   ],
   "source": [
    "#Q5\n",
    "\n",
    "def merge(arr1,arr2,m,n):\n",
    "    i=0\n",
    "    j=0\n",
    "    k=0\n",
    "    temp=[]\n",
    "    while(i<m and j<n):\n",
    "        if(arr1[i]<=arr2[j]):\n",
    "            temp.append(arr1[i])\n",
    "            i+=1\n",
    "            if(i==m):\n",
    "                break\n",
    "        else:\n",
    "            temp.append(arr2[j])\n",
    "            j=+1\n",
    "            if(j==m):\n",
    "                break\n",
    "    while(i<m):\n",
    "        temp.append(arr1[i])\n",
    "        i+=1\n",
    "    \n",
    "    while(j<m):\n",
    "        temp.append(arr2[j])\n",
    "        j+=1  \n",
    "            \n",
    "    arr1=temp\n",
    "    print(arr1)\n",
    "    \n",
    "if __name__==\"__main__\":            \n",
    "    nums1 = [1,2,3]\n",
    "    m=3\n",
    "    nums2 = [2,5,6]\n",
    "    n=3\n",
    "    merge(nums1,nums2,m,n)"
   ]
  },
  {
   "cell_type": "code",
   "execution_count": 15,
   "id": "45d8100b-e136-437a-afd2-290e0dca3f81",
   "metadata": {},
   "outputs": [
    {
     "name": "stdout",
     "output_type": "stream",
     "text": [
      "True\n"
     ]
    }
   ],
   "source": [
    "#Q6\n",
    "\n",
    "def repeat(arr1):\n",
    "    x=[]\n",
    "    count=0\n",
    "    for i in range(1,len(arr1)):\n",
    "        for j in range(i,len(arr1)):\n",
    "            if(arr1[i]==arr1[j]):\n",
    "                count+=1\n",
    "        if(count>1):\n",
    "            x.append(arr1[i])\n",
    "    if(len(x)==0):\n",
    "        print(\"False\")\n",
    "    else:\n",
    "        print(\"True\")\n",
    "    \n",
    "if __name__==\"__main__\":   \n",
    "    nums = [1,2,3,1]\n",
    "    repeat(nums)"
   ]
  },
  {
   "cell_type": "code",
   "execution_count": 4,
   "id": "032f84cc-e536-4e2c-b009-be6691b940a8",
   "metadata": {},
   "outputs": [
    {
     "name": "stdout",
     "output_type": "stream",
     "text": [
      "[1, 3, 12, 0, 0]\n"
     ]
    }
   ],
   "source": [
    "#07\n",
    "\n",
    "def shift(arr1):\n",
    "    pt1=0\n",
    "    pt2=0\n",
    "    n=len(arr1)\n",
    "    while(pt2<n):\n",
    "        if(arr1[pt1]==0):\n",
    "            if(arr1[pt2]!=0):\n",
    "                t=arr1[pt1]\n",
    "                arr1[pt1]=arr1[pt2]\n",
    "                arr1[pt2]=t\n",
    "                pt1+=1\n",
    "                pt2+=1\n",
    "            else:\n",
    "                pt2+=1\n",
    "    return arr1\n",
    "\n",
    "if __name__==\"__main__\":\n",
    "    nums = [0,1,0,3,12]\n",
    "    x=shift(nums)\n",
    "    print(x)\n"
   ]
  },
  {
   "cell_type": "code",
   "execution_count": 5,
   "id": "e3849e57-cb61-4941-8bb0-1e1c6bafb544",
   "metadata": {},
   "outputs": [
    {
     "name": "stdout",
     "output_type": "stream",
     "text": [
      "[2, 1]\n"
     ]
    }
   ],
   "source": [
    "#08\n",
    "\n",
    "def find_missing(arr):\n",
    "    n=len(arr)\n",
    "    for i in range(1,n+1):\n",
    "        if (arr[i]!=i):\n",
    "            x=[arr[i],i]\n",
    "            return x\n",
    "        \n",
    "if __name__==\"__main__\":\n",
    "    nums=[1,2,2,4]\n",
    "    res=find_missing(nums)\n",
    "    print(res)"
   ]
  },
  {
   "cell_type": "code",
   "execution_count": null,
   "id": "3ddf6202-5119-4bc4-a492-cf0c010ae7fa",
   "metadata": {},
   "outputs": [],
   "source": []
  }
 ],
 "metadata": {
  "kernelspec": {
   "display_name": "Python 3 (ipykernel)",
   "language": "python",
   "name": "python3"
  },
  "language_info": {
   "codemirror_mode": {
    "name": "ipython",
    "version": 3
   },
   "file_extension": ".py",
   "mimetype": "text/x-python",
   "name": "python",
   "nbconvert_exporter": "python",
   "pygments_lexer": "ipython3",
   "version": "3.10.8"
  }
 },
 "nbformat": 4,
 "nbformat_minor": 5
}
